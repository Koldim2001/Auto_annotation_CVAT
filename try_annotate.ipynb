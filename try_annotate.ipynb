{
 "cells": [
  {
   "cell_type": "code",
   "execution_count": 26,
   "metadata": {},
   "outputs": [
    {
     "name": "stderr",
     "output_type": "stream",
     "text": [
      "Using cache found in C:\\Users\\Дмитрий/.cache\\torch\\hub\\ultralytics_yolov5_master\n",
      "YOLOv5  2023-6-21 Python-3.8.16 torch-1.13.1+cu117 CUDA:0 (NVIDIA GeForce RTX 3080 Ti Laptop GPU, 16384MiB)\n",
      "\n",
      "Fusing layers... \n",
      "YOLOv5m summary: 212 layers, 20873139 parameters, 0 gradients, 47.9 GFLOPs\n",
      "Adding AutoShape... \n"
     ]
    }
   ],
   "source": [
    "import torch\n",
    "\n",
    "# Загрузка модели YOLOv5\n",
    "model = torch.hub.load('ultralytics/yolov5', 'custom', path='models/bag_belt_yolo.pt')\n",
    "# Установка порога по уверенности и подавления\n",
    "model.conf = 0.15  # Порог по уверенности\n",
    "model.iou = 0.4  # Порог подавления\n",
    "\n"
   ]
  },
  {
   "cell_type": "code",
   "execution_count": 45,
   "metadata": {},
   "outputs": [],
   "source": [
    "def download_models(folder_name='models'):\n",
    "    '''\n",
    "    Функция для загрузки моделей обученных нейронных сетей в папку folder_name \n",
    "    из моего гугл диска\n",
    "    '''\n",
    "    #if not os.path.exists(folder_name + ''):\n",
    "    # Создание пустой папки \n",
    "    if not os.path.exists(folder_name):\n",
    "        os.mkdir(folder_name)\n",
    "\n",
    "    print('Загружаю модель нейронной сети:')\n",
    "    url_1 = \"https://drive.google.com/uc?id=1p2ErNFGtcN9Gly3ewy1UAz68wAKxSFW3\"\n",
    "    output_1 = folder_name + \"/bag_belt_yolo.pt\"\n",
    "\n",
    "    gdown.download(url_1, output_1, quiet=False)\n"
   ]
  },
  {
   "cell_type": "code",
   "execution_count": 40,
   "metadata": {},
   "outputs": [],
   "source": [
    "import gdown"
   ]
  },
  {
   "cell_type": "code",
   "execution_count": 46,
   "metadata": {},
   "outputs": [
    {
     "name": "stdout",
     "output_type": "stream",
     "text": [
      "Загружаю модель нейронной сети:\n"
     ]
    },
    {
     "name": "stderr",
     "output_type": "stream",
     "text": [
      "Downloading...\n",
      "From (uriginal): https://drive.google.com/uc?id=1p2ErNFGtcN9Gly3ewy1UAz68wAKxSFW3\n",
      "From (redirected): https://drive.google.com/uc?id=1p2ErNFGtcN9Gly3ewy1UAz68wAKxSFW3&confirm=t&uuid=e19753ee-29d5-4496-9685-402dea92c4b8\n",
      "To: c:\\WORK_ЦТиП\\Koldim2001 repo\\annotation_making_cvat\\models\\model_human_detection_final.pth\n",
      "100%|██████████| 42.2M/42.2M [00:02<00:00, 17.5MB/s]\n"
     ]
    }
   ],
   "source": [
    "download_models()"
   ]
  },
  {
   "cell_type": "code",
   "execution_count": 27,
   "metadata": {},
   "outputs": [],
   "source": [
    "def save_annotations_to_yolo_format(output_file, results, height_max, width_max):\n",
    "    with open(output_file, 'w') as f:\n",
    "        for result in results.xyxy[0]:\n",
    "            label = result[-1]\n",
    "            xmin, ymin, xmax, ymax = result[:4]\n",
    "\n",
    "            # Получение координат центра объекта и его ширины и высоты\n",
    "            width = xmax - xmin\n",
    "            height = ymax - ymin\n",
    "            x_center = xmin + width / 2\n",
    "            y_center = ymin + height / 2\n",
    "\n",
    "            # Запись аннотации в формате YOLO 1.1\n",
    "            label = int(label)\n",
    "            x_center_formatted = '{:.6f}'.format(x_center.item() / width_max)\n",
    "            y_center_formatted = '{:.6f}'.format(y_center.item() / height_max)\n",
    "            width_formatted = '{:.6f}'.format(width.item() / width_max)\n",
    "            height_formatted = '{:.6f}'.format(height.item() / height_max)\n",
    "\n",
    "            line = f\"{label} {x_center_formatted} {y_center_formatted} {width_formatted} {height_formatted}\\n\"\n",
    "            f.write(line)"
   ]
  },
  {
   "cell_type": "code",
   "execution_count": 28,
   "metadata": {},
   "outputs": [
    {
     "name": "stdout",
     "output_type": "stream",
     "text": [
      "Аннотации сохранены\n"
     ]
    }
   ],
   "source": [
    "import os\n",
    "import cv2\n",
    "\n",
    "image_folder = 'image_folder'\n",
    "output_folder = 'results/obj_train_data'\n",
    "\n",
    "# Создание папки для сохранения аннотаций, если она не существует\n",
    "os.makedirs(output_folder, exist_ok=True)\n",
    "\n",
    "# Обработка изображений и сохранение аннотаций в формате YOLO 1.1\n",
    "for image_file in os.listdir(image_folder):\n",
    "    image_path = os.path.join(image_folder, image_file)\n",
    "    image = cv2.imread(image_path)\n",
    "    image = cv2.cvtColor(image, cv2.COLOR_BGR2RGB)\n",
    "    height_max, width_max = image.shape[0], image.shape[1]\n",
    "\n",
    "    # Инференс с использованием модели YOLOv5\n",
    "    results = model(image)\n",
    "\n",
    "    # Путь к файлу аннотации\n",
    "    annotation_file = os.path.join(output_folder, f\"{os.path.splitext(image_file)[0]}.txt\")\n",
    "\n",
    "    # Сохранение аннотаций в формате YOLO 1.1\n",
    "    save_annotations_to_yolo_format(annotation_file, results, height_max, width_max)\n",
    "\n",
    "print(f\"Аннотации сохранены\")\n",
    "\n",
    "train_file = 'results/train.txt'  # Имя файла train.txt\n",
    "\n",
    "# Создание пустого файла train.txt, если он не существует\n",
    "if not os.path.exists(train_file):\n",
    "    open(train_file, 'w').close()\n",
    "\n",
    "# Запись имен файлов в train.txt\n",
    "with open(train_file, 'w') as f:\n",
    "    for image_file in os.listdir(image_folder):\n",
    "        f.write('data/obj_train_data/' + image_file + '\\n')\n"
   ]
  },
  {
   "cell_type": "code",
   "execution_count": 29,
   "metadata": {},
   "outputs": [],
   "source": [
    "import shutil\n",
    "\n",
    "def copy_files_to_folder(source_folder, destination_folder):\n",
    "    # Создание пустой папки\n",
    "    os.makedirs(destination_folder, exist_ok=True)\n",
    "\n",
    "    # Копирование файлов в папку\n",
    "    for file_name in os.listdir(source_folder):\n",
    "        source_file = os.path.join(source_folder, file_name)\n",
    "        destination_file = os.path.join(destination_folder, file_name)\n",
    "        shutil.copy2(source_file, destination_file)\n",
    "\n",
    "def delete_folder(folder):\n",
    "    # Удаление папки со всем содержимым\n",
    "    shutil.rmtree(folder)\n",
    "\n",
    "# Указать путь к папке, из которой нужно скопировать файлы\n",
    "source_folder = 'extra_data'\n",
    "# Указать путь к папке, в которую нужно скопировать файлы\n",
    "destination_folder = 'results'\n",
    "\n",
    "# Копирование файлов в папку\n",
    "copy_files_to_folder(source_folder, destination_folder)\n",
    "\n"
   ]
  },
  {
   "cell_type": "code",
   "execution_count": 30,
   "metadata": {},
   "outputs": [],
   "source": [
    "import zipfile\n",
    "\n",
    "def create_zip_archive(folder_path, output_path):\n",
    "    with zipfile.ZipFile(output_path, 'w', zipfile.ZIP_DEFLATED) as zipf:\n",
    "        for root, _, files in os.walk(folder_path):\n",
    "            for file in files:\n",
    "                file_path = os.path.join(root, file)\n",
    "                zipf.write(file_path, arcname=os.path.relpath(file_path, folder_path))\n",
    "\n",
    "# Указать путь к папке, файлы которой нужно добавить в zip-архив\n",
    "folder_path = 'results'\n",
    "# Указать путь для сохранения zip-архива\n",
    "output_path = 'annotations.zip'\n",
    "\n",
    "create_zip_archive(folder_path, output_path)"
   ]
  },
  {
   "cell_type": "code",
   "execution_count": 31,
   "metadata": {},
   "outputs": [],
   "source": [
    "# Удаление папки со всем содержимым\n",
    "delete_folder(destination_folder)"
   ]
  },
  {
   "cell_type": "code",
   "execution_count": null,
   "metadata": {},
   "outputs": [],
   "source": [
    "https://drive.google.com/file/d/1p2ErNFGtcN9Gly3ewy1UAz68wAKxSFW3/view?usp=sharing"
   ]
  }
 ],
 "metadata": {
  "kernelspec": {
   "display_name": "WORK",
   "language": "python",
   "name": "python3"
  },
  "language_info": {
   "codemirror_mode": {
    "name": "ipython",
    "version": 3
   },
   "file_extension": ".py",
   "mimetype": "text/x-python",
   "name": "python",
   "nbconvert_exporter": "python",
   "pygments_lexer": "ipython3",
   "version": "3.8.16"
  },
  "orig_nbformat": 4
 },
 "nbformat": 4,
 "nbformat_minor": 2
}
