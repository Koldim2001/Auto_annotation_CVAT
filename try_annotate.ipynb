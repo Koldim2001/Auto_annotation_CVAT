{
 "cells": [
  {
   "cell_type": "code",
   "execution_count": 91,
   "metadata": {},
   "outputs": [
    {
     "name": "stderr",
     "output_type": "stream",
     "text": [
      "Using cache found in C:\\Users\\Дмитрий/.cache\\torch\\hub\\ultralytics_yolov5_master\n",
      "YOLOv5  2023-6-21 Python-3.8.16 torch-1.13.1+cu117 CUDA:0 (NVIDIA GeForce RTX 3080 Ti Laptop GPU, 16384MiB)\n",
      "\n",
      "Fusing layers... \n",
      "YOLOv5m summary: 212 layers, 20873139 parameters, 0 gradients, 47.9 GFLOPs\n",
      "Adding AutoShape... \n"
     ]
    }
   ],
   "source": [
    "import torch\n",
    "\n",
    "# Загрузка модели YOLOv5\n",
    "model = torch.hub.load('ultralytics/yolov5', 'custom', path='bag_belt_yolo.pt')\n",
    "# Установка порога по уверенности и подавления\n",
    "model.conf = 0.15  # Порог по уверенности\n",
    "model.iou = 0.4  # Порог подавления\n",
    "\n"
   ]
  },
  {
   "cell_type": "code",
   "execution_count": 92,
   "metadata": {},
   "outputs": [],
   "source": [
    "def save_annotations_to_yolo_format(output_file, results, height_max, width_max):\n",
    "    with open(output_file, 'w') as f:\n",
    "        for result in results.xyxy[0]:\n",
    "            label = result[-1]\n",
    "            xmin, ymin, xmax, ymax = result[:4]\n",
    "\n",
    "            # Получение координат центра объекта и его ширины и высоты\n",
    "            width = xmax - xmin\n",
    "            height = ymax - ymin\n",
    "            x_center = xmin + width / 2\n",
    "            y_center = ymin + height / 2\n",
    "\n",
    "            # Запись аннотации в формате YOLO 1.1\n",
    "            label = int(label)\n",
    "            x_center_formatted = '{:.6f}'.format(x_center.item() / width_max)\n",
    "            y_center_formatted = '{:.6f}'.format(y_center.item() / height_max)\n",
    "            width_formatted = '{:.6f}'.format(width.item() / width_max)\n",
    "            height_formatted = '{:.6f}'.format(height.item() / height_max)\n",
    "\n",
    "            line = f\"{label} {x_center_formatted} {y_center_formatted} {width_formatted} {height_formatted}\\n\"\n",
    "            f.write(line)"
   ]
  },
  {
   "cell_type": "code",
   "execution_count": 72,
   "metadata": {},
   "outputs": [
    {
     "data": {
      "text/plain": [
       "'0.059708'"
      ]
     },
     "execution_count": 72,
     "metadata": {},
     "output_type": "execute_result"
    }
   ],
   "source": [
    "'{:.6f}'.format(0.0597076)"
   ]
  },
  {
   "cell_type": "code",
   "execution_count": 93,
   "metadata": {},
   "outputs": [
    {
     "name": "stdout",
     "output_type": "stream",
     "text": [
      "Аннотации сохранены\n"
     ]
    }
   ],
   "source": [
    "import os\n",
    "import cv2\n",
    "import numpy as np\n",
    "\n",
    "image_folder = 'image_folder'\n",
    "output_folder = 'results/obj_train_data'\n",
    "\n",
    "# Создание папки для сохранения аннотаций, если она не существует\n",
    "os.makedirs(output_folder, exist_ok=True)\n",
    "\n",
    "# Обработка изображений и сохранение аннотаций в формате YOLO 1.1\n",
    "for image_file in os.listdir(image_folder):\n",
    "    image_path = os.path.join(image_folder, image_file)\n",
    "    image = cv2.imread(image_path)\n",
    "\n",
    "    height_max, width_max = image.shape[0], image.shape[1]\n",
    "\n",
    "    # Инференс с использованием модели YOLOv5\n",
    "    results = model(image)\n",
    "\n",
    "    # Путь к файлу аннотации\n",
    "    annotation_file = os.path.join(output_folder, f\"{os.path.splitext(image_file)[0]}.txt\")\n",
    "\n",
    "    # Сохранение аннотаций в формате YOLO 1.1\n",
    "    save_annotations_to_yolo_format(annotation_file, results, height_max, width_max)\n",
    "\n",
    "print(f\"Аннотации сохранены\")\n",
    "\n",
    "train_file = 'results/train.txt'  # Имя файла train.txt\n",
    "\n",
    "# Создание пустого файла train.txt, если он не существует\n",
    "if not os.path.exists(train_file):\n",
    "    open(train_file, 'w').close()\n",
    "\n",
    "# Запись имен файлов в train.txt\n",
    "with open(train_file, 'w') as f:\n",
    "    for image_file in os.listdir(image_folder):\n",
    "        f.write('data/obj_train_data/' + image_file + '\\n')\n"
   ]
  },
  {
   "cell_type": "code",
   "execution_count": 94,
   "metadata": {},
   "outputs": [],
   "source": [
    "import zipfile\n",
    "\n",
    "def create_zip_archive(folder_path, output_path):\n",
    "    with zipfile.ZipFile(output_path, 'w', zipfile.ZIP_DEFLATED) as zipf:\n",
    "        for root, _, files in os.walk(folder_path):\n",
    "            for file in files:\n",
    "                file_path = os.path.join(root, file)\n",
    "                zipf.write(file_path, arcname=os.path.relpath(file_path, folder_path))\n",
    "\n",
    "# Указать путь к папке, файлы которой нужно добавить в zip-архив\n",
    "folder_path = 'results'\n",
    "# Указать путь для сохранения zip-архива\n",
    "output_path = 'annotations.zip'\n",
    "\n",
    "create_zip_archive(folder_path, output_path)"
   ]
  },
  {
   "cell_type": "code",
   "execution_count": null,
   "metadata": {},
   "outputs": [],
   "source": []
  },
  {
   "cell_type": "markdown",
   "metadata": {},
   "source": []
  },
  {
   "cell_type": "markdown",
   "metadata": {},
   "source": []
  },
  {
   "cell_type": "markdown",
   "metadata": {},
   "source": []
  },
  {
   "cell_type": "markdown",
   "metadata": {},
   "source": []
  },
  {
   "cell_type": "code",
   "execution_count": 11,
   "metadata": {},
   "outputs": [],
   "source": [
    "def convert_results_to_coco_format(results, image_file):\n",
    "    coco_annotations = []\n",
    "    #image_id = int(image_file.split('.')[0])\n",
    "\n",
    "    for result in results.xyxy[0]:\n",
    "        label = result[-1]\n",
    "        xmin, ymin, xmax, ymax = result[:4]\n",
    "        width, height = xmax - xmin, ymax - ymin\n",
    "        print(xmin, ymin, xmax, ymax)\n",
    "\n",
    "        coco_annotation = {\n",
    "            \"id\": len(coco_annotations) + 1,\n",
    "            \"file_name\": image_file,\n",
    "            \"category_id\": int(label),\n",
    "            \"bbox\": [xmin, ymin, width, height],\n",
    "            \"area\": width * height,\n",
    "            \"iscrowd\": 0\n",
    "        }\n",
    "\n",
    "        coco_annotations.append(coco_annotation)\n",
    "\n",
    "    return coco_annotations"
   ]
  },
  {
   "cell_type": "code",
   "execution_count": 13,
   "metadata": {},
   "outputs": [
    {
     "name": "stdout",
     "output_type": "stream",
     "text": [
      "Создан пустой JSON-файл: example.json\n",
      "image 1/1: 1080x1920 1 person, 1 head\n",
      "Speed: 3.1ms pre-process, 130.8ms inference, 4.0ms NMS per image at shape (1, 3, 384, 640)\n",
      "tensor(130.81345, device='cuda:0') tensor(648.97351, device='cuda:0') tensor(394.06155, device='cuda:0') tensor(1074.30127, device='cuda:0')\n",
      "tensor(936.75684, device='cuda:0') tensor(590.53967, device='cuda:0') tensor(1062.51355, device='cuda:0') tensor(795.39026, device='cuda:0')\n",
      "image 1/1: 1080x1920 1 person, 3 heads\n",
      "Speed: 1.9ms pre-process, 100.2ms inference, 2.4ms NMS per image at shape (1, 3, 384, 640)\n",
      "tensor(355.83731, device='cuda:0') tensor(592.87115, device='cuda:0') tensor(479.29358, device='cuda:0') tensor(747.11957, device='cuda:0')\n",
      "tensor(727.71594, device='cuda:0') tensor(428.71152, device='cuda:0') tensor(874.00415, device='cuda:0') tensor(777.43518, device='cuda:0')\n",
      "tensor(755.98010, device='cuda:0') tensor(432.72662, device='cuda:0') tensor(826.35632, device='cuda:0') tensor(524.10175, device='cuda:0')\n",
      "tensor(619.17798, device='cuda:0') tensor(542.34814, device='cuda:0') tensor(713.91260, device='cuda:0') tensor(658.01233, device='cuda:0')\n"
     ]
    },
    {
     "ename": "TypeError",
     "evalue": "Object of type Tensor is not JSON serializable",
     "output_type": "error",
     "traceback": [
      "\u001b[1;31m---------------------------------------------------------------------------\u001b[0m",
      "\u001b[1;31mTypeError\u001b[0m                                 Traceback (most recent call last)",
      "Cell \u001b[1;32mIn[13], line 48\u001b[0m\n\u001b[0;32m     41\u001b[0m coco_data \u001b[39m=\u001b[39m {\n\u001b[0;32m     42\u001b[0m     \u001b[39m\"\u001b[39m\u001b[39mimages\u001b[39m\u001b[39m\"\u001b[39m: [],\n\u001b[0;32m     43\u001b[0m     \u001b[39m\"\u001b[39m\u001b[39mannotations\u001b[39m\u001b[39m\"\u001b[39m: annotations,\n\u001b[0;32m     44\u001b[0m     \u001b[39m\"\u001b[39m\u001b[39mcategories\u001b[39m\u001b[39m\"\u001b[39m: []\n\u001b[0;32m     45\u001b[0m }\n\u001b[0;32m     47\u001b[0m \u001b[39mwith\u001b[39;00m \u001b[39mopen\u001b[39m(output_file, \u001b[39m'\u001b[39m\u001b[39mw\u001b[39m\u001b[39m'\u001b[39m) \u001b[39mas\u001b[39;00m f:\n\u001b[1;32m---> 48\u001b[0m     json\u001b[39m.\u001b[39;49mdump(coco_data, f)\n\u001b[0;32m     50\u001b[0m \u001b[39mprint\u001b[39m(\u001b[39mf\u001b[39m\u001b[39m\"\u001b[39m\u001b[39mАннотации сохранены в файле: \u001b[39m\u001b[39m{\u001b[39;00moutput_file\u001b[39m}\u001b[39;00m\u001b[39m\"\u001b[39m)\n",
      "File \u001b[1;32mc:\\Program Files\\Anaconda\\envs\\WORK\\lib\\json\\__init__.py:179\u001b[0m, in \u001b[0;36mdump\u001b[1;34m(obj, fp, skipkeys, ensure_ascii, check_circular, allow_nan, cls, indent, separators, default, sort_keys, **kw)\u001b[0m\n\u001b[0;32m    173\u001b[0m     iterable \u001b[39m=\u001b[39m \u001b[39mcls\u001b[39m(skipkeys\u001b[39m=\u001b[39mskipkeys, ensure_ascii\u001b[39m=\u001b[39mensure_ascii,\n\u001b[0;32m    174\u001b[0m         check_circular\u001b[39m=\u001b[39mcheck_circular, allow_nan\u001b[39m=\u001b[39mallow_nan, indent\u001b[39m=\u001b[39mindent,\n\u001b[0;32m    175\u001b[0m         separators\u001b[39m=\u001b[39mseparators,\n\u001b[0;32m    176\u001b[0m         default\u001b[39m=\u001b[39mdefault, sort_keys\u001b[39m=\u001b[39msort_keys, \u001b[39m*\u001b[39m\u001b[39m*\u001b[39mkw)\u001b[39m.\u001b[39miterencode(obj)\n\u001b[0;32m    177\u001b[0m \u001b[39m# could accelerate with writelines in some versions of Python, at\u001b[39;00m\n\u001b[0;32m    178\u001b[0m \u001b[39m# a debuggability cost\u001b[39;00m\n\u001b[1;32m--> 179\u001b[0m \u001b[39mfor\u001b[39;00m chunk \u001b[39min\u001b[39;00m iterable:\n\u001b[0;32m    180\u001b[0m     fp\u001b[39m.\u001b[39mwrite(chunk)\n",
      "File \u001b[1;32mc:\\Program Files\\Anaconda\\envs\\WORK\\lib\\json\\encoder.py:431\u001b[0m, in \u001b[0;36m_make_iterencode.<locals>._iterencode\u001b[1;34m(o, _current_indent_level)\u001b[0m\n\u001b[0;32m    429\u001b[0m     \u001b[39myield from\u001b[39;00m _iterencode_list(o, _current_indent_level)\n\u001b[0;32m    430\u001b[0m \u001b[39melif\u001b[39;00m \u001b[39misinstance\u001b[39m(o, \u001b[39mdict\u001b[39m):\n\u001b[1;32m--> 431\u001b[0m     \u001b[39myield from\u001b[39;00m _iterencode_dict(o, _current_indent_level)\n\u001b[0;32m    432\u001b[0m \u001b[39melse\u001b[39;00m:\n\u001b[0;32m    433\u001b[0m     \u001b[39mif\u001b[39;00m markers \u001b[39mis\u001b[39;00m \u001b[39mnot\u001b[39;00m \u001b[39mNone\u001b[39;00m:\n",
      "File \u001b[1;32mc:\\Program Files\\Anaconda\\envs\\WORK\\lib\\json\\encoder.py:405\u001b[0m, in \u001b[0;36m_make_iterencode.<locals>._iterencode_dict\u001b[1;34m(dct, _current_indent_level)\u001b[0m\n\u001b[0;32m    403\u001b[0m         \u001b[39melse\u001b[39;00m:\n\u001b[0;32m    404\u001b[0m             chunks \u001b[39m=\u001b[39m _iterencode(value, _current_indent_level)\n\u001b[1;32m--> 405\u001b[0m         \u001b[39myield from\u001b[39;00m chunks\n\u001b[0;32m    406\u001b[0m \u001b[39mif\u001b[39;00m newline_indent \u001b[39mis\u001b[39;00m \u001b[39mnot\u001b[39;00m \u001b[39mNone\u001b[39;00m:\n\u001b[0;32m    407\u001b[0m     _current_indent_level \u001b[39m-\u001b[39m\u001b[39m=\u001b[39m \u001b[39m1\u001b[39m\n",
      "File \u001b[1;32mc:\\Program Files\\Anaconda\\envs\\WORK\\lib\\json\\encoder.py:325\u001b[0m, in \u001b[0;36m_make_iterencode.<locals>._iterencode_list\u001b[1;34m(lst, _current_indent_level)\u001b[0m\n\u001b[0;32m    323\u001b[0m         \u001b[39melse\u001b[39;00m:\n\u001b[0;32m    324\u001b[0m             chunks \u001b[39m=\u001b[39m _iterencode(value, _current_indent_level)\n\u001b[1;32m--> 325\u001b[0m         \u001b[39myield from\u001b[39;00m chunks\n\u001b[0;32m    326\u001b[0m \u001b[39mif\u001b[39;00m newline_indent \u001b[39mis\u001b[39;00m \u001b[39mnot\u001b[39;00m \u001b[39mNone\u001b[39;00m:\n\u001b[0;32m    327\u001b[0m     _current_indent_level \u001b[39m-\u001b[39m\u001b[39m=\u001b[39m \u001b[39m1\u001b[39m\n",
      "File \u001b[1;32mc:\\Program Files\\Anaconda\\envs\\WORK\\lib\\json\\encoder.py:405\u001b[0m, in \u001b[0;36m_make_iterencode.<locals>._iterencode_dict\u001b[1;34m(dct, _current_indent_level)\u001b[0m\n\u001b[0;32m    403\u001b[0m         \u001b[39melse\u001b[39;00m:\n\u001b[0;32m    404\u001b[0m             chunks \u001b[39m=\u001b[39m _iterencode(value, _current_indent_level)\n\u001b[1;32m--> 405\u001b[0m         \u001b[39myield from\u001b[39;00m chunks\n\u001b[0;32m    406\u001b[0m \u001b[39mif\u001b[39;00m newline_indent \u001b[39mis\u001b[39;00m \u001b[39mnot\u001b[39;00m \u001b[39mNone\u001b[39;00m:\n\u001b[0;32m    407\u001b[0m     _current_indent_level \u001b[39m-\u001b[39m\u001b[39m=\u001b[39m \u001b[39m1\u001b[39m\n",
      "File \u001b[1;32mc:\\Program Files\\Anaconda\\envs\\WORK\\lib\\json\\encoder.py:325\u001b[0m, in \u001b[0;36m_make_iterencode.<locals>._iterencode_list\u001b[1;34m(lst, _current_indent_level)\u001b[0m\n\u001b[0;32m    323\u001b[0m         \u001b[39melse\u001b[39;00m:\n\u001b[0;32m    324\u001b[0m             chunks \u001b[39m=\u001b[39m _iterencode(value, _current_indent_level)\n\u001b[1;32m--> 325\u001b[0m         \u001b[39myield from\u001b[39;00m chunks\n\u001b[0;32m    326\u001b[0m \u001b[39mif\u001b[39;00m newline_indent \u001b[39mis\u001b[39;00m \u001b[39mnot\u001b[39;00m \u001b[39mNone\u001b[39;00m:\n\u001b[0;32m    327\u001b[0m     _current_indent_level \u001b[39m-\u001b[39m\u001b[39m=\u001b[39m \u001b[39m1\u001b[39m\n",
      "File \u001b[1;32mc:\\Program Files\\Anaconda\\envs\\WORK\\lib\\json\\encoder.py:438\u001b[0m, in \u001b[0;36m_make_iterencode.<locals>._iterencode\u001b[1;34m(o, _current_indent_level)\u001b[0m\n\u001b[0;32m    436\u001b[0m         \u001b[39mraise\u001b[39;00m \u001b[39mValueError\u001b[39;00m(\u001b[39m\"\u001b[39m\u001b[39mCircular reference detected\u001b[39m\u001b[39m\"\u001b[39m)\n\u001b[0;32m    437\u001b[0m     markers[markerid] \u001b[39m=\u001b[39m o\n\u001b[1;32m--> 438\u001b[0m o \u001b[39m=\u001b[39m _default(o)\n\u001b[0;32m    439\u001b[0m \u001b[39myield from\u001b[39;00m _iterencode(o, _current_indent_level)\n\u001b[0;32m    440\u001b[0m \u001b[39mif\u001b[39;00m markers \u001b[39mis\u001b[39;00m \u001b[39mnot\u001b[39;00m \u001b[39mNone\u001b[39;00m:\n",
      "File \u001b[1;32mc:\\Program Files\\Anaconda\\envs\\WORK\\lib\\json\\encoder.py:179\u001b[0m, in \u001b[0;36mJSONEncoder.default\u001b[1;34m(self, o)\u001b[0m\n\u001b[0;32m    160\u001b[0m \u001b[39mdef\u001b[39;00m \u001b[39mdefault\u001b[39m(\u001b[39mself\u001b[39m, o):\n\u001b[0;32m    161\u001b[0m \u001b[39m    \u001b[39m\u001b[39m\"\"\"Implement this method in a subclass such that it returns\u001b[39;00m\n\u001b[0;32m    162\u001b[0m \u001b[39m    a serializable object for ``o``, or calls the base implementation\u001b[39;00m\n\u001b[0;32m    163\u001b[0m \u001b[39m    (to raise a ``TypeError``).\u001b[39;00m\n\u001b[1;32m   (...)\u001b[0m\n\u001b[0;32m    177\u001b[0m \n\u001b[0;32m    178\u001b[0m \u001b[39m    \"\"\"\u001b[39;00m\n\u001b[1;32m--> 179\u001b[0m     \u001b[39mraise\u001b[39;00m \u001b[39mTypeError\u001b[39;00m(\u001b[39mf\u001b[39m\u001b[39m'\u001b[39m\u001b[39mObject of type \u001b[39m\u001b[39m{\u001b[39;00mo\u001b[39m.\u001b[39m\u001b[39m__class__\u001b[39m\u001b[39m.\u001b[39m\u001b[39m__name__\u001b[39m\u001b[39m}\u001b[39;00m\u001b[39m \u001b[39m\u001b[39m'\u001b[39m\n\u001b[0;32m    180\u001b[0m                     \u001b[39mf\u001b[39m\u001b[39m'\u001b[39m\u001b[39mis not JSON serializable\u001b[39m\u001b[39m'\u001b[39m)\n",
      "\u001b[1;31mTypeError\u001b[0m: Object of type Tensor is not JSON serializable"
     ]
    }
   ],
   "source": [
    "import os\n",
    "import cv2\n",
    "import numpy as np\n",
    "import json\n",
    "\n",
    "image_folder = 'image_folder'\n",
    "\n",
    "\n",
    "\n",
    "output_file = 'example.json'\n",
    "\n",
    "# Проверка наличия файла\n",
    "if not os.path.exists(output_file):\n",
    "    # Создание пустого JSON-файла\n",
    "    with open(output_file, 'w') as f:\n",
    "        json.dump({}, f)\n",
    "    print(f\"Создан пустой JSON-файл: {output_file}\")\n",
    "else:\n",
    "    print(f\"Файл уже существует: {foutput_file}\")\n",
    "\n",
    "\n",
    "annotations = []\n",
    "\n",
    "# Получение списка изображений из папки\n",
    "image_files = [f for f in os.listdir(image_folder) if os.path.isfile(os.path.join(image_folder, f))]\n",
    "\n",
    "# Выполнение инференса и сохранение аннотаций в формате COCO 1.0\n",
    "for image_file in image_files[:2]:\n",
    "    image_path = os.path.join(image_folder, image_file)\n",
    "    image = cv2.imread(image_path)\n",
    "\n",
    "    # Инференс с использованием модели YOLOv5\n",
    "    results = model(image)\n",
    "    print(results)\n",
    "\n",
    "    # Получение аннотаций из результатов инференса и добавление в список\n",
    "    coco_annotations = convert_results_to_coco_format(results, image_file)\n",
    "    annotations.extend(coco_annotations)\n",
    "\n",
    "# Сохранение аннотаций в формате COCO JSON\n",
    "coco_data = {\n",
    "    \"images\": [],\n",
    "    \"annotations\": annotations,\n",
    "    \"categories\": []\n",
    "}\n",
    "\n",
    "with open(output_file, 'w') as f:\n",
    "    json.dump(coco_data, f)\n",
    "\n",
    "print(f\"Аннотации сохранены в файле: {output_file}\")\n"
   ]
  },
  {
   "cell_type": "code",
   "execution_count": null,
   "metadata": {},
   "outputs": [],
   "source": []
  }
 ],
 "metadata": {
  "kernelspec": {
   "display_name": "WORK",
   "language": "python",
   "name": "python3"
  },
  "language_info": {
   "codemirror_mode": {
    "name": "ipython",
    "version": 3
   },
   "file_extension": ".py",
   "mimetype": "text/x-python",
   "name": "python",
   "nbconvert_exporter": "python",
   "pygments_lexer": "ipython3",
   "version": "3.8.16"
  },
  "orig_nbformat": 4
 },
 "nbformat": 4,
 "nbformat_minor": 2
}
